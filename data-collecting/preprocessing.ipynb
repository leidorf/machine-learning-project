{
 "cells": [
  {
   "cell_type": "code",
   "execution_count": 15,
   "id": "12ac7981",
   "metadata": {},
   "outputs": [],
   "source": [
    "import pandas as pd\n",
    "import numpy as np\n",
    "import joblib\n",
    "from sklearn.preprocessing import LabelEncoder"
   ]
  },
  {
   "cell_type": "code",
   "execution_count": 10,
   "id": "7b90cb3f",
   "metadata": {},
   "outputs": [],
   "source": [
    "df = pd.read_csv(\"./birlestirilmis_veriler.csv\")"
   ]
  },
  {
   "cell_type": "code",
   "execution_count": 13,
   "id": "70a8f3c1",
   "metadata": {},
   "outputs": [
    {
     "data": {
      "text/plain": [
       "Yer\n",
       "KAHRAMANMARAS     113\n",
       "MALATYA           103\n",
       "BURSA              61\n",
       "HATAY              21\n",
       "ADANA              20\n",
       "CORUM              18\n",
       "ADIYAMAN           17\n",
       "YALOVA             17\n",
       "ELAZIG             12\n",
       "MERSIN             12\n",
       "MANISA             12\n",
       "SIVAS              12\n",
       "KONYA              11\n",
       "MUGLA              11\n",
       "IZMIR               8\n",
       "SANLIURFA           6\n",
       "KUTAHYA             6\n",
       "GAZIANTEP           6\n",
       "KAYSERI             6\n",
       "OSMANIYE            6\n",
       "ANKARA              5\n",
       "BINGOL              5\n",
       "ERZINCAN            4\n",
       "YOZGAT              4\n",
       "DENIZLI             3\n",
       "CANAKKALE           3\n",
       "DUZCE               3\n",
       "BOLU                3\n",
       "TUNCELI             2\n",
       "ISPARTA             2\n",
       "BALIKESIR           2\n",
       "AFYONKARAHISAR      2\n",
       "DIYARBAKIR          2\n",
       "VAN                 2\n",
       "AGRI                1\n",
       "AYDIN               1\n",
       "SAKARYA             1\n",
       "KARS                1\n",
       "ERZURUM             1\n",
       "CANKIRI             1\n",
       "SIRNAK              1\n",
       "NIGDE               1\n",
       "KIRIKKALE           1\n",
       "AMASYA              1\n",
       "MUS                 1\n",
       "Name: count, dtype: int64"
      ]
     },
     "execution_count": 13,
     "metadata": {},
     "output_type": "execute_result"
    }
   ],
   "source": [
    "df[\"Yer\"].value_counts()"
   ]
  },
  {
   "cell_type": "code",
   "execution_count": 26,
   "id": "f80cb6b3",
   "metadata": {},
   "outputs": [],
   "source": [
    "enc = LabelEncoder()"
   ]
  },
  {
   "cell_type": "code",
   "execution_count": 27,
   "id": "b3be1557",
   "metadata": {},
   "outputs": [],
   "source": [
    "df['Yer'] = enc.fit_transform(df['Yer'])"
   ]
  },
  {
   "cell_type": "code",
   "execution_count": 28,
   "id": "e77aedad",
   "metadata": {},
   "outputs": [
    {
     "data": {
      "text/plain": [
       "Yer\n",
       "24    113\n",
       "30    103\n",
       "10     61\n",
       "21     21\n",
       "0      20\n",
       "13     18\n",
       "1      17\n",
       "43     17\n",
       "17     12\n",
       "32     12\n",
       "31     12\n",
       "40     12\n",
       "28     11\n",
       "33     11\n",
       "23      8\n",
       "38      6\n",
       "29      6\n",
       "20      6\n",
       "26      6\n",
       "36      6\n",
       "5       5\n",
       "8       5\n",
       "18      4\n",
       "44      4\n",
       "14      3\n",
       "11      3\n",
       "16      3\n",
       "9       3\n",
       "41      2\n",
       "22      2\n",
       "7       2\n",
       "2       2\n",
       "15      2\n",
       "42      2\n",
       "3       1\n",
       "6       1\n",
       "37      1\n",
       "25      1\n",
       "19      1\n",
       "12      1\n",
       "39      1\n",
       "35      1\n",
       "27      1\n",
       "4       1\n",
       "34      1\n",
       "Name: count, dtype: int64"
      ]
     },
     "execution_count": 28,
     "metadata": {},
     "output_type": "execute_result"
    }
   ],
   "source": [
    "df[\"Yer\"].value_counts()"
   ]
  },
  {
   "cell_type": "code",
   "execution_count": 29,
   "id": "5660ae29",
   "metadata": {},
   "outputs": [
    {
     "name": "stdout",
     "output_type": "stream",
     "text": [
      "False\n",
      "False\n",
      "False\n",
      "False\n"
     ]
    }
   ],
   "source": [
    "print(df['Derinlik'].isnull().values.any())\n",
    "print(df['ML'].isnull().values.any())\n",
    "print(df['Yer'].isnull().values.any())\n",
    "print(df['Timestamp'].isnull().values.any())"
   ]
  },
  {
   "cell_type": "code",
   "execution_count": 30,
   "id": "b1fc9d45",
   "metadata": {},
   "outputs": [
    {
     "data": {
      "text/html": [
       "<div>\n",
       "<style scoped>\n",
       "    .dataframe tbody tr th:only-of-type {\n",
       "        vertical-align: middle;\n",
       "    }\n",
       "\n",
       "    .dataframe tbody tr th {\n",
       "        vertical-align: top;\n",
       "    }\n",
       "\n",
       "    .dataframe thead th {\n",
       "        text-align: right;\n",
       "    }\n",
       "</style>\n",
       "<table border=\"1\" class=\"dataframe\">\n",
       "  <thead>\n",
       "    <tr style=\"text-align: right;\">\n",
       "      <th></th>\n",
       "      <th>Derinlik</th>\n",
       "      <th>ML</th>\n",
       "      <th>Yer</th>\n",
       "      <th>Timestamp</th>\n",
       "    </tr>\n",
       "  </thead>\n",
       "  <tbody>\n",
       "    <tr>\n",
       "      <th>0</th>\n",
       "      <td>7.9</td>\n",
       "      <td>1.8</td>\n",
       "      <td>30</td>\n",
       "      <td>1.702056e+09</td>\n",
       "    </tr>\n",
       "    <tr>\n",
       "      <th>1</th>\n",
       "      <td>2.9</td>\n",
       "      <td>2.0</td>\n",
       "      <td>30</td>\n",
       "      <td>1.702055e+09</td>\n",
       "    </tr>\n",
       "    <tr>\n",
       "      <th>2</th>\n",
       "      <td>10.8</td>\n",
       "      <td>2.6</td>\n",
       "      <td>30</td>\n",
       "      <td>1.702055e+09</td>\n",
       "    </tr>\n",
       "    <tr>\n",
       "      <th>3</th>\n",
       "      <td>7.8</td>\n",
       "      <td>1.5</td>\n",
       "      <td>30</td>\n",
       "      <td>1.702054e+09</td>\n",
       "    </tr>\n",
       "    <tr>\n",
       "      <th>4</th>\n",
       "      <td>9.0</td>\n",
       "      <td>1.1</td>\n",
       "      <td>21</td>\n",
       "      <td>1.702054e+09</td>\n",
       "    </tr>\n",
       "    <tr>\n",
       "      <th>...</th>\n",
       "      <td>...</td>\n",
       "      <td>...</td>\n",
       "      <td>...</td>\n",
       "      <td>...</td>\n",
       "    </tr>\n",
       "    <tr>\n",
       "      <th>526</th>\n",
       "      <td>20.6</td>\n",
       "      <td>1.0</td>\n",
       "      <td>36</td>\n",
       "      <td>1.701480e+09</td>\n",
       "    </tr>\n",
       "    <tr>\n",
       "      <th>527</th>\n",
       "      <td>4.2</td>\n",
       "      <td>2.0</td>\n",
       "      <td>33</td>\n",
       "      <td>1.701479e+09</td>\n",
       "    </tr>\n",
       "    <tr>\n",
       "      <th>528</th>\n",
       "      <td>20.6</td>\n",
       "      <td>1.2</td>\n",
       "      <td>24</td>\n",
       "      <td>1.701477e+09</td>\n",
       "    </tr>\n",
       "    <tr>\n",
       "      <th>529</th>\n",
       "      <td>5.0</td>\n",
       "      <td>1.3</td>\n",
       "      <td>40</td>\n",
       "      <td>1.701477e+09</td>\n",
       "    </tr>\n",
       "    <tr>\n",
       "      <th>530</th>\n",
       "      <td>20.2</td>\n",
       "      <td>1.6</td>\n",
       "      <td>1</td>\n",
       "      <td>1.701474e+09</td>\n",
       "    </tr>\n",
       "  </tbody>\n",
       "</table>\n",
       "<p>531 rows × 4 columns</p>\n",
       "</div>"
      ],
      "text/plain": [
       "     Derinlik   ML  Yer     Timestamp\n",
       "0         7.9  1.8   30  1.702056e+09\n",
       "1         2.9  2.0   30  1.702055e+09\n",
       "2        10.8  2.6   30  1.702055e+09\n",
       "3         7.8  1.5   30  1.702054e+09\n",
       "4         9.0  1.1   21  1.702054e+09\n",
       "..        ...  ...  ...           ...\n",
       "526      20.6  1.0   36  1.701480e+09\n",
       "527       4.2  2.0   33  1.701479e+09\n",
       "528      20.6  1.2   24  1.701477e+09\n",
       "529       5.0  1.3   40  1.701477e+09\n",
       "530      20.2  1.6    1  1.701474e+09\n",
       "\n",
       "[531 rows x 4 columns]"
      ]
     },
     "execution_count": 30,
     "metadata": {},
     "output_type": "execute_result"
    }
   ],
   "source": [
    "df"
   ]
  },
  {
   "cell_type": "code",
   "execution_count": 31,
   "id": "75e5f5a0",
   "metadata": {},
   "outputs": [
    {
     "name": "stdout",
     "output_type": "stream",
     "text": [
      "<class 'pandas.core.frame.DataFrame'>\n",
      "RangeIndex: 531 entries, 0 to 530\n",
      "Data columns (total 4 columns):\n",
      " #   Column     Non-Null Count  Dtype  \n",
      "---  ------     --------------  -----  \n",
      " 0   Derinlik   531 non-null    float64\n",
      " 1   ML         531 non-null    float64\n",
      " 2   Yer        531 non-null    int64  \n",
      " 3   Timestamp  531 non-null    float64\n",
      "dtypes: float64(3), int64(1)\n",
      "memory usage: 16.7 KB\n"
     ]
    }
   ],
   "source": [
    "df.info()"
   ]
  },
  {
   "cell_type": "code",
   "execution_count": 32,
   "id": "72ba192f",
   "metadata": {},
   "outputs": [],
   "source": [
    "df.to_csv(\"ready-to-training-data.csv\",index=False)"
   ]
  }
 ],
 "metadata": {
  "kernelspec": {
   "display_name": "Python 3 (ipykernel)",
   "language": "python",
   "name": "python3"
  },
  "language_info": {
   "codemirror_mode": {
    "name": "ipython",
    "version": 3
   },
   "file_extension": ".py",
   "mimetype": "text/x-python",
   "name": "python",
   "nbconvert_exporter": "python",
   "pygments_lexer": "ipython3",
   "version": "3.11.5"
  }
 },
 "nbformat": 4,
 "nbformat_minor": 5
}
