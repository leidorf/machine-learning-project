{
 "cells": [
  {
   "cell_type": "code",
   "execution_count": 1,
   "id": "df74919a",
   "metadata": {},
   "outputs": [],
   "source": [
    "import pandas as pd\n",
    "from bs4 import BeautifulSoup\n",
    "import pandas as pd\n",
    "import numpy as np\n",
    "import matplotlib.pyplot as plt\n",
    "import seaborn as sns"
   ]
  },
  {
   "cell_type": "markdown",
   "id": "9794b2fb",
   "metadata": {},
   "source": [
    "Veri temizleme sırasında bazı çöp veriler ek 3 sütuna taştığı için o sütunları adlandırıp, sildik"
   ]
  },
  {
   "cell_type": "code",
   "execution_count": 2,
   "id": "39a7c41e",
   "metadata": {},
   "outputs": [],
   "source": [
    "csv_file_path = '../data/earthquakedata0.csv'\n",
    "df = pd.read_csv(csv_file_path, sep=',', names=['Tarih', 'Saat', 'Enlem(N)', 'Boylam(E)', 'Derinlik(km)', 'MD', 'ML', 'Mw', 'Yer'])\n",
    "df[['Tarih', 'Saat', 'Enlem(N)', 'Boylam(E)', 'Derinlik(km)', 'MD', 'ML', 'Mw', 'Yer','sil1','sil2','sil3']] = df['Tarih'].str.split(',', expand=True)\n",
    "\n",
    "# Yeni bir CSV dosyasına yaz\n",
    "new_csv_file_path = '../data/cleanedearthquake.csv'\n",
    "df.to_csv(new_csv_file_path, index=False)\n"
   ]
  },
  {
   "cell_type": "code",
   "execution_count": 3,
   "id": "dbab4d90",
   "metadata": {},
   "outputs": [
    {
     "name": "stdout",
     "output_type": "stream",
     "text": [
      "<class 'pandas.core.frame.DataFrame'>\n",
      "RangeIndex: 501 entries, 0 to 500\n",
      "Data columns (total 12 columns):\n",
      " #   Column        Non-Null Count  Dtype \n",
      "---  ------        --------------  ----- \n",
      " 0   Tarih         501 non-null    object\n",
      " 1   Saat          501 non-null    object\n",
      " 2   Enlem(N)      501 non-null    object\n",
      " 3   Boylam(E)     501 non-null    object\n",
      " 4   Derinlik(km)  501 non-null    object\n",
      " 5   MD            501 non-null    object\n",
      " 6   ML            501 non-null    object\n",
      " 7   Mw            501 non-null    object\n",
      " 8   Yer           501 non-null    object\n",
      " 9   sil1          103 non-null    object\n",
      " 10  sil2          61 non-null     object\n",
      " 11  sil3          2 non-null      object\n",
      "dtypes: object(12)\n",
      "memory usage: 47.1+ KB\n"
     ]
    }
   ],
   "source": [
    "df.info()"
   ]
  },
  {
   "cell_type": "code",
   "execution_count": 4,
   "id": "c809f15d",
   "metadata": {},
   "outputs": [],
   "source": [
    "df = df.drop(['Enlem(N)','Boylam(E)','MD','Mw','sil1','sil2','sil3'], axis=1)"
   ]
  },
  {
   "cell_type": "code",
   "execution_count": 5,
   "id": "588ccb59",
   "metadata": {},
   "outputs": [
    {
     "data": {
      "text/plain": [
       "Index(['Tarih', 'Saat', 'Derinlik(km)', 'ML', 'Yer'], dtype='object')"
      ]
     },
     "execution_count": 5,
     "metadata": {},
     "output_type": "execute_result"
    }
   ],
   "source": [
    "df.columns"
   ]
  },
  {
   "cell_type": "code",
   "execution_count": 6,
   "id": "de82db45",
   "metadata": {},
   "outputs": [
    {
     "data": {
      "text/html": [
       "<div>\n",
       "<style scoped>\n",
       "    .dataframe tbody tr th:only-of-type {\n",
       "        vertical-align: middle;\n",
       "    }\n",
       "\n",
       "    .dataframe tbody tr th {\n",
       "        vertical-align: top;\n",
       "    }\n",
       "\n",
       "    .dataframe thead th {\n",
       "        text-align: right;\n",
       "    }\n",
       "</style>\n",
       "<table border=\"1\" class=\"dataframe\">\n",
       "  <thead>\n",
       "    <tr style=\"text-align: right;\">\n",
       "      <th></th>\n",
       "      <th>Tarih</th>\n",
       "      <th>Saat</th>\n",
       "      <th>Derinlik(km)</th>\n",
       "      <th>ML</th>\n",
       "      <th>Yer</th>\n",
       "    </tr>\n",
       "  </thead>\n",
       "  <tbody>\n",
       "    <tr>\n",
       "      <th>0</th>\n",
       "      <td>Tarih</td>\n",
       "      <td>Saat</td>\n",
       "      <td>Derinlik(km)</td>\n",
       "      <td>ML</td>\n",
       "      <td>Yer</td>\n",
       "    </tr>\n",
       "    <tr>\n",
       "      <th>1</th>\n",
       "      <td>2023.12.22</td>\n",
       "      <td>14:44:42</td>\n",
       "      <td>11.9</td>\n",
       "      <td>1.5</td>\n",
       "      <td>GEMLIK</td>\n",
       "    </tr>\n",
       "    <tr>\n",
       "      <th>2</th>\n",
       "      <td>2023.12.22</td>\n",
       "      <td>14:27:53</td>\n",
       "      <td>28.2</td>\n",
       "      <td>2.0</td>\n",
       "      <td>KARACAM-KOYCEGIZ(MUGLA)</td>\n",
       "    </tr>\n",
       "    <tr>\n",
       "      <th>3</th>\n",
       "      <td>2023.12.22</td>\n",
       "      <td>14:25:09</td>\n",
       "      <td>15.5</td>\n",
       "      <td>3.4</td>\n",
       "      <td>KARADENIZ</td>\n",
       "    </tr>\n",
       "    <tr>\n",
       "      <th>4</th>\n",
       "      <td>2023.12.22</td>\n",
       "      <td>14:01:08</td>\n",
       "      <td>5.4</td>\n",
       "      <td>1.8</td>\n",
       "      <td>FINDIK-GOKSUN(KAHRAMANMARAS)</td>\n",
       "    </tr>\n",
       "    <tr>\n",
       "      <th>5</th>\n",
       "      <td>2023.12.22</td>\n",
       "      <td>13:36:06</td>\n",
       "      <td>12.0</td>\n",
       "      <td>1.8</td>\n",
       "      <td>GELINPERTEK-YEDISU(BINGOL)</td>\n",
       "    </tr>\n",
       "    <tr>\n",
       "      <th>6</th>\n",
       "      <td>2023.12.22</td>\n",
       "      <td>13:15:38</td>\n",
       "      <td>5.0</td>\n",
       "      <td>2.4</td>\n",
       "      <td>KAPIKAYA-KOZAN(ADANA)</td>\n",
       "    </tr>\n",
       "    <tr>\n",
       "      <th>7</th>\n",
       "      <td>2023.12.22</td>\n",
       "      <td>13:06:15</td>\n",
       "      <td>5.0</td>\n",
       "      <td>1.1</td>\n",
       "      <td>GEMLIK</td>\n",
       "    </tr>\n",
       "    <tr>\n",
       "      <th>8</th>\n",
       "      <td>2023.12.22</td>\n",
       "      <td>13:04:31</td>\n",
       "      <td>9.5</td>\n",
       "      <td>2.1</td>\n",
       "      <td>GELINPERTEK-YEDISU(BINGOL)</td>\n",
       "    </tr>\n",
       "    <tr>\n",
       "      <th>9</th>\n",
       "      <td>2023.12.22</td>\n",
       "      <td>12:57:47</td>\n",
       "      <td>13.2</td>\n",
       "      <td>1.4</td>\n",
       "      <td>AFYONKARAHISAR(AFYONKARAHISAR)</td>\n",
       "    </tr>\n",
       "  </tbody>\n",
       "</table>\n",
       "</div>"
      ],
      "text/plain": [
       "        Tarih      Saat  Derinlik(km)   ML                             Yer\n",
       "0       Tarih      Saat  Derinlik(km)   ML                             Yer\n",
       "1  2023.12.22  14:44:42          11.9  1.5                          GEMLIK\n",
       "2  2023.12.22  14:27:53          28.2  2.0         KARACAM-KOYCEGIZ(MUGLA)\n",
       "3  2023.12.22  14:25:09          15.5  3.4                       KARADENIZ\n",
       "4  2023.12.22  14:01:08           5.4  1.8    FINDIK-GOKSUN(KAHRAMANMARAS)\n",
       "5  2023.12.22  13:36:06          12.0  1.8      GELINPERTEK-YEDISU(BINGOL)\n",
       "6  2023.12.22  13:15:38           5.0  2.4           KAPIKAYA-KOZAN(ADANA)\n",
       "7  2023.12.22  13:06:15           5.0  1.1                          GEMLIK\n",
       "8  2023.12.22  13:04:31           9.5  2.1      GELINPERTEK-YEDISU(BINGOL)\n",
       "9  2023.12.22  12:57:47          13.2  1.4  AFYONKARAHISAR(AFYONKARAHISAR)"
      ]
     },
     "execution_count": 6,
     "metadata": {},
     "output_type": "execute_result"
    }
   ],
   "source": [
    "df.head(10)"
   ]
  },
  {
   "cell_type": "markdown",
   "id": "88703a67",
   "metadata": {},
   "source": [
    "Yer sütununda bulunan parantez dışındaki veriler çöp veriler olduğu için onları da siliyoruz."
   ]
  },
  {
   "cell_type": "code",
   "execution_count": 7,
   "id": "d4c81f65",
   "metadata": {},
   "outputs": [],
   "source": [
    "df['Yer'] = df['Yer'].str.extract(r'\\((.*?)\\)')"
   ]
  },
  {
   "cell_type": "code",
   "execution_count": 8,
   "id": "ae1926ec",
   "metadata": {},
   "outputs": [
    {
     "data": {
      "text/plain": [
       "0                NaN\n",
       "1                NaN\n",
       "2              MUGLA\n",
       "3                NaN\n",
       "4      KAHRAMANMARAS\n",
       "           ...      \n",
       "496              NaN\n",
       "497              NaN\n",
       "498              NaN\n",
       "499    KAHRAMANMARAS\n",
       "500    KAHRAMANMARAS\n",
       "Name: Yer, Length: 501, dtype: object"
      ]
     },
     "execution_count": 8,
     "metadata": {},
     "output_type": "execute_result"
    }
   ],
   "source": [
    "df[\"Yer\"]"
   ]
  },
  {
   "cell_type": "markdown",
   "id": "de38d009",
   "metadata": {},
   "source": [
    "Yer sütunundaki boş değere sahip olan satırları siliyoruz."
   ]
  },
  {
   "cell_type": "code",
   "execution_count": 9,
   "id": "37c89a7e",
   "metadata": {},
   "outputs": [],
   "source": [
    "df.dropna(subset=['Yer'], inplace=True)"
   ]
  },
  {
   "cell_type": "code",
   "execution_count": 10,
   "id": "5801db60",
   "metadata": {},
   "outputs": [
    {
     "data": {
      "text/plain": [
       "2              MUGLA\n",
       "4      KAHRAMANMARAS\n",
       "5             BINGOL\n",
       "6              ADANA\n",
       "8             BINGOL\n",
       "           ...      \n",
       "492    KAHRAMANMARAS\n",
       "493           MERSIN\n",
       "494            BURSA\n",
       "499    KAHRAMANMARAS\n",
       "500    KAHRAMANMARAS\n",
       "Name: Yer, Length: 397, dtype: object"
      ]
     },
     "execution_count": 10,
     "metadata": {},
     "output_type": "execute_result"
    }
   ],
   "source": [
    "df[\"Yer\"]"
   ]
  },
  {
   "cell_type": "markdown",
   "id": "ceb834e9",
   "metadata": {},
   "source": [
    "Tarih ve saat sütunundaki verileri timestamp olarak birleştiriyoruz."
   ]
  },
  {
   "cell_type": "code",
   "execution_count": 11,
   "id": "74a87249",
   "metadata": {},
   "outputs": [],
   "source": [
    "import datetime\n",
    "import time"
   ]
  },
  {
   "cell_type": "code",
   "execution_count": 12,
   "id": "248bcdd6",
   "metadata": {},
   "outputs": [],
   "source": [
    "timestamp=[]\n",
    "for d, t in zip(df['Tarih'], df['Saat']):\n",
    "    try:\n",
    "        ts = datetime.datetime.strptime(d + ' ' + t, '%Y.%m.%d %H:%M:%S')\n",
    "        timestamp.append(time.mktime(ts.timetuple()))\n",
    "    except ValueError as e:\n",
    "        print(f\"Error for date {d} and time {t}: {e}\")\n",
    "        timestamp.append('ValueError')\n",
    "\n",
    "timeStamp = pd.Series(timestamp)\n",
    "df['Timestamp'] = timeStamp.values"
   ]
  },
  {
   "cell_type": "code",
   "execution_count": 13,
   "id": "8bcc1b81",
   "metadata": {},
   "outputs": [
    {
     "data": {
      "text/html": [
       "<div>\n",
       "<style scoped>\n",
       "    .dataframe tbody tr th:only-of-type {\n",
       "        vertical-align: middle;\n",
       "    }\n",
       "\n",
       "    .dataframe tbody tr th {\n",
       "        vertical-align: top;\n",
       "    }\n",
       "\n",
       "    .dataframe thead th {\n",
       "        text-align: right;\n",
       "    }\n",
       "</style>\n",
       "<table border=\"1\" class=\"dataframe\">\n",
       "  <thead>\n",
       "    <tr style=\"text-align: right;\">\n",
       "      <th></th>\n",
       "      <th>Tarih</th>\n",
       "      <th>Saat</th>\n",
       "      <th>Derinlik(km)</th>\n",
       "      <th>ML</th>\n",
       "      <th>Yer</th>\n",
       "      <th>Timestamp</th>\n",
       "    </tr>\n",
       "  </thead>\n",
       "  <tbody>\n",
       "    <tr>\n",
       "      <th>2</th>\n",
       "      <td>2023.12.22</td>\n",
       "      <td>14:27:53</td>\n",
       "      <td>28.2</td>\n",
       "      <td>2.0</td>\n",
       "      <td>MUGLA</td>\n",
       "      <td>1.703244e+09</td>\n",
       "    </tr>\n",
       "    <tr>\n",
       "      <th>4</th>\n",
       "      <td>2023.12.22</td>\n",
       "      <td>14:01:08</td>\n",
       "      <td>5.4</td>\n",
       "      <td>1.8</td>\n",
       "      <td>KAHRAMANMARAS</td>\n",
       "      <td>1.703243e+09</td>\n",
       "    </tr>\n",
       "    <tr>\n",
       "      <th>5</th>\n",
       "      <td>2023.12.22</td>\n",
       "      <td>13:36:06</td>\n",
       "      <td>12.0</td>\n",
       "      <td>1.8</td>\n",
       "      <td>BINGOL</td>\n",
       "      <td>1.703241e+09</td>\n",
       "    </tr>\n",
       "    <tr>\n",
       "      <th>6</th>\n",
       "      <td>2023.12.22</td>\n",
       "      <td>13:15:38</td>\n",
       "      <td>5.0</td>\n",
       "      <td>2.4</td>\n",
       "      <td>ADANA</td>\n",
       "      <td>1.703240e+09</td>\n",
       "    </tr>\n",
       "    <tr>\n",
       "      <th>8</th>\n",
       "      <td>2023.12.22</td>\n",
       "      <td>13:04:31</td>\n",
       "      <td>9.5</td>\n",
       "      <td>2.1</td>\n",
       "      <td>BINGOL</td>\n",
       "      <td>1.703239e+09</td>\n",
       "    </tr>\n",
       "    <tr>\n",
       "      <th>...</th>\n",
       "      <td>...</td>\n",
       "      <td>...</td>\n",
       "      <td>...</td>\n",
       "      <td>...</td>\n",
       "      <td>...</td>\n",
       "      <td>...</td>\n",
       "    </tr>\n",
       "    <tr>\n",
       "      <th>492</th>\n",
       "      <td>2023.12.15</td>\n",
       "      <td>11:51:59</td>\n",
       "      <td>5.0</td>\n",
       "      <td>1.0</td>\n",
       "      <td>KAHRAMANMARAS</td>\n",
       "      <td>1.702630e+09</td>\n",
       "    </tr>\n",
       "    <tr>\n",
       "      <th>493</th>\n",
       "      <td>2023.12.15</td>\n",
       "      <td>11:45:09</td>\n",
       "      <td>0.0</td>\n",
       "      <td>1.1</td>\n",
       "      <td>MERSIN</td>\n",
       "      <td>1.702630e+09</td>\n",
       "    </tr>\n",
       "    <tr>\n",
       "      <th>494</th>\n",
       "      <td>2023.12.15</td>\n",
       "      <td>11:44:38</td>\n",
       "      <td>5.4</td>\n",
       "      <td>1.3</td>\n",
       "      <td>BURSA</td>\n",
       "      <td>1.702630e+09</td>\n",
       "    </tr>\n",
       "    <tr>\n",
       "      <th>499</th>\n",
       "      <td>2023.12.15</td>\n",
       "      <td>10:05:05</td>\n",
       "      <td>4.7</td>\n",
       "      <td>1.8</td>\n",
       "      <td>KAHRAMANMARAS</td>\n",
       "      <td>1.702624e+09</td>\n",
       "    </tr>\n",
       "    <tr>\n",
       "      <th>500</th>\n",
       "      <td>2023.12.15</td>\n",
       "      <td>09:40:33</td>\n",
       "      <td>11.8</td>\n",
       "      <td>1.4</td>\n",
       "      <td>KAHRAMANMARAS</td>\n",
       "      <td>1.702622e+09</td>\n",
       "    </tr>\n",
       "  </tbody>\n",
       "</table>\n",
       "<p>397 rows × 6 columns</p>\n",
       "</div>"
      ],
      "text/plain": [
       "          Tarih      Saat Derinlik(km)   ML            Yer     Timestamp\n",
       "2    2023.12.22  14:27:53         28.2  2.0          MUGLA  1.703244e+09\n",
       "4    2023.12.22  14:01:08          5.4  1.8  KAHRAMANMARAS  1.703243e+09\n",
       "5    2023.12.22  13:36:06         12.0  1.8         BINGOL  1.703241e+09\n",
       "6    2023.12.22  13:15:38          5.0  2.4          ADANA  1.703240e+09\n",
       "8    2023.12.22  13:04:31          9.5  2.1         BINGOL  1.703239e+09\n",
       "..          ...       ...          ...  ...            ...           ...\n",
       "492  2023.12.15  11:51:59          5.0  1.0  KAHRAMANMARAS  1.702630e+09\n",
       "493  2023.12.15  11:45:09          0.0  1.1         MERSIN  1.702630e+09\n",
       "494  2023.12.15  11:44:38          5.4  1.3          BURSA  1.702630e+09\n",
       "499  2023.12.15  10:05:05          4.7  1.8  KAHRAMANMARAS  1.702624e+09\n",
       "500  2023.12.15  09:40:33         11.8  1.4  KAHRAMANMARAS  1.702622e+09\n",
       "\n",
       "[397 rows x 6 columns]"
      ]
     },
     "metadata": {},
     "output_type": "display_data"
    }
   ],
   "source": [
    "display(df)"
   ]
  },
  {
   "cell_type": "markdown",
   "id": "de48e20b",
   "metadata": {},
   "source": [
    "Artık \"Tarih\" ve \"Saat\" sütunu ile bir işimiz kalmadığı için onları da siliyoruz."
   ]
  },
  {
   "cell_type": "code",
   "execution_count": 14,
   "id": "6606d712",
   "metadata": {},
   "outputs": [],
   "source": [
    "df = df.drop(['Tarih','Saat'], axis=1)"
   ]
  },
  {
   "cell_type": "code",
   "execution_count": 15,
   "id": "3c7d6a1c",
   "metadata": {},
   "outputs": [],
   "source": [
    "df=df.rename(columns = {'Derinlik(km)':'Derinlik'})"
   ]
  },
  {
   "cell_type": "code",
   "execution_count": 16,
   "id": "3f460384",
   "metadata": {},
   "outputs": [],
   "source": [
    "df[\"Derinlik\"] = df.Derinlik.astype(float)\n",
    "df[\"ML\"] = df.ML.astype(float)"
   ]
  },
  {
   "cell_type": "code",
   "execution_count": 17,
   "id": "eca5adba",
   "metadata": {},
   "outputs": [
    {
     "name": "stdout",
     "output_type": "stream",
     "text": [
      "<class 'pandas.core.frame.DataFrame'>\n",
      "Index: 397 entries, 2 to 500\n",
      "Data columns (total 4 columns):\n",
      " #   Column     Non-Null Count  Dtype  \n",
      "---  ------     --------------  -----  \n",
      " 0   Derinlik   397 non-null    float64\n",
      " 1   ML         397 non-null    float64\n",
      " 2   Yer        397 non-null    object \n",
      " 3   Timestamp  397 non-null    float64\n",
      "dtypes: float64(3), object(1)\n",
      "memory usage: 15.5+ KB\n"
     ]
    }
   ],
   "source": [
    "df.info()"
   ]
  },
  {
   "cell_type": "code",
   "execution_count": 18,
   "id": "8b9591fe",
   "metadata": {},
   "outputs": [],
   "source": [
    "df.to_csv(new_csv_file_path, index=False)"
   ]
  }
 ],
 "metadata": {
  "kernelspec": {
   "display_name": "Python 3 (ipykernel)",
   "language": "python",
   "name": "python3"
  },
  "language_info": {
   "codemirror_mode": {
    "name": "ipython",
    "version": 3
   },
   "file_extension": ".py",
   "mimetype": "text/x-python",
   "name": "python",
   "nbconvert_exporter": "python",
   "pygments_lexer": "ipython3",
   "version": "3.11.5"
  }
 },
 "nbformat": 4,
 "nbformat_minor": 5
}
