{
 "cells": [
  {
   "cell_type": "code",
   "execution_count": 1,
   "id": "3c1dde33",
   "metadata": {},
   "outputs": [],
   "source": [
    "import requests\n",
    "from bs4 import BeautifulSoup\n",
    "import csv"
   ]
  },
  {
   "cell_type": "code",
   "execution_count": 2,
   "id": "875a942d",
   "metadata": {},
   "outputs": [],
   "source": [
    "#Scrapping yapılacak sitenin url'sini gir.\n",
    "url = 'http://www.koeri.boun.edu.tr/scripts/lst8.asp'\n",
    "response = requests.get(url)"
   ]
  },
  {
   "cell_type": "code",
   "execution_count": 3,
   "id": "a660683e",
   "metadata": {},
   "outputs": [
    {
     "name": "stdout",
     "output_type": "stream",
     "text": [
      "Veriler CSV dosyasına yazıldı: ../data/earthquakedata0.csv\n"
     ]
    }
   ],
   "source": [
    "if response.status_code == 200:\n",
    "    html_content = response.text\n",
    "    soup = BeautifulSoup(html_content, 'html.parser')\n",
    "\n",
    "    # <pre> etiketini bul\n",
    "    pre_tag = soup.find('pre')\n",
    "\n",
    "    if pre_tag:\n",
    "        # <pre> etiketinin içeriğini al\n",
    "        data = pre_tag.text\n",
    "\n",
    "        # Verileri işleyin veya depolayın\n",
    "        # Örneğin, verileri satır satır ayırarak bir liste oluşturun\n",
    "        rows = [line.strip() for line in data.split('\\n') if line.strip()]\n",
    "        \n",
    "        rows = rows[6:]\n",
    "\n",
    "        # CSV dosyasına yazma\n",
    "        csv_file_path = '../data/earthquakedata0.csv'\n",
    "\n",
    "        with open(csv_file_path, 'w', newline='', encoding='utf-8') as csv_file:\n",
    "            writer = csv.writer(csv_file)\n",
    "            columnnames=['Tarih,Saat,Enlem(N),Boylam(E),Derinlik(km),MD,ML,Mw,Yer']\n",
    "\n",
    "            # Sütun başlıklarını tek bir sütun olarak ekle\n",
    "            writer.writerow(columnnames)\n",
    "\n",
    "            # Verileri CSV'ye yaz\n",
    "            for row in rows:\n",
    "                # Boşluklardan önceki parantez içindeki boşlukları virgül ile değiştir\n",
    "                modified_row = ','.join(row.split())\n",
    "                modified_row = modified_row.replace(',(', '(')\n",
    "                # Satırdaki ilk kapalı parantez sonrasını sil\n",
    "                modified_row = modified_row.split(')', 1)\n",
    "                modified_row = modified_row[0] + ')' if modified_row[1:] else modified_row[0]\n",
    "                writer.writerow([modified_row])\n",
    "\n",
    "        print(f'Veriler CSV dosyasına yazıldı: {csv_file_path}')\n",
    "    else:\n",
    "        print('<pre> etiketi bulunamadı.')\n",
    "else:\n",
    "    print(f'Hata: {response.status_code}')\n"
   ]
  },
  {
   "cell_type": "code",
   "execution_count": null,
   "id": "3a30bce3",
   "metadata": {},
   "outputs": [],
   "source": []
  }
 ],
 "metadata": {
  "kernelspec": {
   "display_name": "Python 3 (ipykernel)",
   "language": "python",
   "name": "python3"
  },
  "language_info": {
   "codemirror_mode": {
    "name": "ipython",
    "version": 3
   },
   "file_extension": ".py",
   "mimetype": "text/x-python",
   "name": "python",
   "nbconvert_exporter": "python",
   "pygments_lexer": "ipython3",
   "version": "3.11.5"
  }
 },
 "nbformat": 4,
 "nbformat_minor": 5
}
