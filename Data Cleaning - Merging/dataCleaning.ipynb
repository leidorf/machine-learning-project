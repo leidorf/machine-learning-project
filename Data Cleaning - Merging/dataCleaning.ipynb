{
 "cells": [
  {
   "cell_type": "code",
   "execution_count": 40,
   "id": "df74919a",
   "metadata": {},
   "outputs": [],
   "source": [
    "import pandas as pd\n",
    "from bs4 import BeautifulSoup\n",
    "import pandas as pd\n",
    "import numpy as np\n",
    "import matplotlib.pyplot as plt\n",
    "import seaborn as sns"
   ]
  },
  {
   "cell_type": "markdown",
   "id": "9794b2fb",
   "metadata": {},
   "source": [
    "Veri temizleme sırasında bazı çöp veriler ek 3 sütuna taştığı için o sütunları adlandırıp, sildik"
   ]
  },
  {
   "cell_type": "code",
   "execution_count": 41,
   "id": "39a7c41e",
   "metadata": {},
   "outputs": [],
   "source": [
    "csv_file_path = './earthquakedata.csv'\n",
    "df = pd.read_csv(csv_file_path, sep=',', names=['Tarih', 'Saat', 'Enlem(N)', 'Boylam(E)', 'Derinlik(km)', 'MD', 'ML', 'Mw', 'Yer'])\n",
    "df[['Tarih', 'Saat', 'Enlem(N)', 'Boylam(E)', 'Derinlik(km)', 'MD', 'ML', 'Mw', 'Yer','sil1','sil2','sil3']] = df['Tarih'].str.split(',', expand=True)\n",
    "\n",
    "# Yeni bir CSV dosyasına yaz\n",
    "yeni_csv_file_path = 'cleanedearthquake.csv'\n",
    "df.to_csv(yeni_csv_file_path, index=False)\n"
   ]
  },
  {
   "cell_type": "code",
   "execution_count": 42,
   "id": "dbab4d90",
   "metadata": {},
   "outputs": [
    {
     "name": "stdout",
     "output_type": "stream",
     "text": [
      "<class 'pandas.core.frame.DataFrame'>\n",
      "RangeIndex: 501 entries, 0 to 500\n",
      "Data columns (total 12 columns):\n",
      " #   Column        Non-Null Count  Dtype \n",
      "---  ------        --------------  ----- \n",
      " 0   Tarih         501 non-null    object\n",
      " 1   Saat          501 non-null    object\n",
      " 2   Enlem(N)      501 non-null    object\n",
      " 3   Boylam(E)     501 non-null    object\n",
      " 4   Derinlik(km)  501 non-null    object\n",
      " 5   MD            501 non-null    object\n",
      " 6   ML            501 non-null    object\n",
      " 7   Mw            501 non-null    object\n",
      " 8   Yer           501 non-null    object\n",
      " 9   sil1          129 non-null    object\n",
      " 10  sil2          98 non-null     object\n",
      " 11  sil3          6 non-null      object\n",
      "dtypes: object(12)\n",
      "memory usage: 47.1+ KB\n"
     ]
    }
   ],
   "source": [
    "df.info()"
   ]
  },
  {
   "cell_type": "code",
   "execution_count": 43,
   "id": "c809f15d",
   "metadata": {},
   "outputs": [],
   "source": [
    "df = df.drop(['Enlem(N)','Boylam(E)','MD','Mw','sil1','sil2','sil3'], axis=1)"
   ]
  },
  {
   "cell_type": "code",
   "execution_count": 44,
   "id": "588ccb59",
   "metadata": {},
   "outputs": [
    {
     "data": {
      "text/plain": [
       "Index(['Tarih', 'Saat', 'Derinlik(km)', 'ML', 'Yer'], dtype='object')"
      ]
     },
     "execution_count": 44,
     "metadata": {},
     "output_type": "execute_result"
    }
   ],
   "source": [
    "df.columns"
   ]
  },
  {
   "cell_type": "code",
   "execution_count": 45,
   "id": "de82db45",
   "metadata": {},
   "outputs": [
    {
     "data": {
      "text/html": [
       "<div>\n",
       "<style scoped>\n",
       "    .dataframe tbody tr th:only-of-type {\n",
       "        vertical-align: middle;\n",
       "    }\n",
       "\n",
       "    .dataframe tbody tr th {\n",
       "        vertical-align: top;\n",
       "    }\n",
       "\n",
       "    .dataframe thead th {\n",
       "        text-align: right;\n",
       "    }\n",
       "</style>\n",
       "<table border=\"1\" class=\"dataframe\">\n",
       "  <thead>\n",
       "    <tr style=\"text-align: right;\">\n",
       "      <th></th>\n",
       "      <th>Tarih</th>\n",
       "      <th>Saat</th>\n",
       "      <th>Derinlik(km)</th>\n",
       "      <th>ML</th>\n",
       "      <th>Yer</th>\n",
       "    </tr>\n",
       "  </thead>\n",
       "  <tbody>\n",
       "    <tr>\n",
       "      <th>0</th>\n",
       "      <td>Tarih</td>\n",
       "      <td>Saat</td>\n",
       "      <td>Derinlik(km)</td>\n",
       "      <td>ML</td>\n",
       "      <td>Yer</td>\n",
       "    </tr>\n",
       "    <tr>\n",
       "      <th>1</th>\n",
       "      <td>2023.12.08</td>\n",
       "      <td>20:27:48</td>\n",
       "      <td>7.9</td>\n",
       "      <td>1.8</td>\n",
       "      <td>BALABAN-DARENDE(MALATYA)</td>\n",
       "    </tr>\n",
       "    <tr>\n",
       "      <th>2</th>\n",
       "      <td>2023.12.08</td>\n",
       "      <td>20:00:27</td>\n",
       "      <td>2.9</td>\n",
       "      <td>2.0</td>\n",
       "      <td>POLAT-DOGANSEHIR(MALATYA)</td>\n",
       "    </tr>\n",
       "    <tr>\n",
       "      <th>3</th>\n",
       "      <td>2023.12.08</td>\n",
       "      <td>19:57:44</td>\n",
       "      <td>10.8</td>\n",
       "      <td>2.6</td>\n",
       "      <td>CUKURKAYA-DARENDE(MALATYA)</td>\n",
       "    </tr>\n",
       "    <tr>\n",
       "      <th>4</th>\n",
       "      <td>2023.12.08</td>\n",
       "      <td>19:48:15</td>\n",
       "      <td>7.8</td>\n",
       "      <td>1.5</td>\n",
       "      <td>SOGUT-DOGANSEHIR(MALATYA)</td>\n",
       "    </tr>\n",
       "    <tr>\n",
       "      <th>5</th>\n",
       "      <td>2023.12.08</td>\n",
       "      <td>19:39:35</td>\n",
       "      <td>9.0</td>\n",
       "      <td>1.1</td>\n",
       "      <td>GULOVA-KUMLU(HATAY)</td>\n",
       "    </tr>\n",
       "    <tr>\n",
       "      <th>6</th>\n",
       "      <td>2023.12.08</td>\n",
       "      <td>19:10:47</td>\n",
       "      <td>7.5</td>\n",
       "      <td>1.3</td>\n",
       "      <td>ASAGIULUPINAR-DARENDE(MALATYA)</td>\n",
       "    </tr>\n",
       "    <tr>\n",
       "      <th>7</th>\n",
       "      <td>2023.12.08</td>\n",
       "      <td>19:04:35</td>\n",
       "      <td>9.8</td>\n",
       "      <td>2.3</td>\n",
       "      <td>GEZIN-MADEN(ELAZIG)</td>\n",
       "    </tr>\n",
       "    <tr>\n",
       "      <th>8</th>\n",
       "      <td>2023.12.08</td>\n",
       "      <td>18:52:50</td>\n",
       "      <td>7.6</td>\n",
       "      <td>1.6</td>\n",
       "      <td>ASAGIULUPINAR-DARENDE(MALATYA)</td>\n",
       "    </tr>\n",
       "    <tr>\n",
       "      <th>9</th>\n",
       "      <td>2023.12.08</td>\n",
       "      <td>18:10:12</td>\n",
       "      <td>5.9</td>\n",
       "      <td>2.0</td>\n",
       "      <td>KOCALAR-(KAHRAMANMARAS)</td>\n",
       "    </tr>\n",
       "  </tbody>\n",
       "</table>\n",
       "</div>"
      ],
      "text/plain": [
       "        Tarih      Saat  Derinlik(km)   ML                             Yer\n",
       "0       Tarih      Saat  Derinlik(km)   ML                             Yer\n",
       "1  2023.12.08  20:27:48           7.9  1.8        BALABAN-DARENDE(MALATYA)\n",
       "2  2023.12.08  20:00:27           2.9  2.0       POLAT-DOGANSEHIR(MALATYA)\n",
       "3  2023.12.08  19:57:44          10.8  2.6      CUKURKAYA-DARENDE(MALATYA)\n",
       "4  2023.12.08  19:48:15           7.8  1.5       SOGUT-DOGANSEHIR(MALATYA)\n",
       "5  2023.12.08  19:39:35           9.0  1.1             GULOVA-KUMLU(HATAY)\n",
       "6  2023.12.08  19:10:47           7.5  1.3  ASAGIULUPINAR-DARENDE(MALATYA)\n",
       "7  2023.12.08  19:04:35           9.8  2.3             GEZIN-MADEN(ELAZIG)\n",
       "8  2023.12.08  18:52:50           7.6  1.6  ASAGIULUPINAR-DARENDE(MALATYA)\n",
       "9  2023.12.08  18:10:12           5.9  2.0         KOCALAR-(KAHRAMANMARAS)"
      ]
     },
     "execution_count": 45,
     "metadata": {},
     "output_type": "execute_result"
    }
   ],
   "source": [
    "df.head(10)"
   ]
  },
  {
   "cell_type": "markdown",
   "id": "88703a67",
   "metadata": {},
   "source": [
    "Yer sütununda bulunan parantez dışındaki veriler çöp veriler olduğu için onları da siliyoruz."
   ]
  },
  {
   "cell_type": "code",
   "execution_count": 46,
   "id": "d4c81f65",
   "metadata": {},
   "outputs": [],
   "source": [
    "df['Yer'] = df['Yer'].str.extract(r'\\((.*?)\\)')"
   ]
  },
  {
   "cell_type": "code",
   "execution_count": 47,
   "id": "ae1926ec",
   "metadata": {},
   "outputs": [
    {
     "data": {
      "text/plain": [
       "0          NaN\n",
       "1      MALATYA\n",
       "2      MALATYA\n",
       "3      MALATYA\n",
       "4      MALATYA\n",
       "        ...   \n",
       "496      BURSA\n",
       "497        NaN\n",
       "498        NaN\n",
       "499      BURSA\n",
       "500      BURSA\n",
       "Name: Yer, Length: 501, dtype: object"
      ]
     },
     "execution_count": 47,
     "metadata": {},
     "output_type": "execute_result"
    }
   ],
   "source": [
    "df[\"Yer\"]"
   ]
  },
  {
   "cell_type": "markdown",
   "id": "de38d009",
   "metadata": {},
   "source": [
    "Yer sütunundaki boş değere sahip olan satırları siliyoruz."
   ]
  },
  {
   "cell_type": "code",
   "execution_count": 48,
   "id": "37c89a7e",
   "metadata": {},
   "outputs": [],
   "source": [
    "df.dropna(subset=['Yer'], inplace=True)"
   ]
  },
  {
   "cell_type": "code",
   "execution_count": 49,
   "id": "5801db60",
   "metadata": {},
   "outputs": [
    {
     "data": {
      "text/plain": [
       "1      MALATYA\n",
       "2      MALATYA\n",
       "3      MALATYA\n",
       "4      MALATYA\n",
       "5        HATAY\n",
       "        ...   \n",
       "492    MALATYA\n",
       "494      SIVAS\n",
       "496      BURSA\n",
       "499      BURSA\n",
       "500      BURSA\n",
       "Name: Yer, Length: 371, dtype: object"
      ]
     },
     "execution_count": 49,
     "metadata": {},
     "output_type": "execute_result"
    }
   ],
   "source": [
    "df[\"Yer\"]"
   ]
  },
  {
   "cell_type": "markdown",
   "id": "ceb834e9",
   "metadata": {},
   "source": [
    "Tarih ve saat sütunundaki verileri timestamp olarak birleştiriyoruz."
   ]
  },
  {
   "cell_type": "code",
   "execution_count": 50,
   "id": "74a87249",
   "metadata": {},
   "outputs": [],
   "source": [
    "import datetime\n",
    "import time"
   ]
  },
  {
   "cell_type": "code",
   "execution_count": 51,
   "id": "248bcdd6",
   "metadata": {},
   "outputs": [],
   "source": [
    "timestamp=[]\n",
    "for d, t in zip(df['Tarih'], df['Saat']):\n",
    "    try:\n",
    "        ts = datetime.datetime.strptime(d + ' ' + t, '%Y.%m.%d %H:%M:%S')\n",
    "        timestamp.append(time.mktime(ts.timetuple()))\n",
    "    except ValueError as e:\n",
    "        print(f\"Error for date {d} and time {t}: {e}\")\n",
    "        timestamp.append('ValueError')\n",
    "\n",
    "timeStamp = pd.Series(timestamp)\n",
    "df['Timestamp'] = timeStamp.values"
   ]
  },
  {
   "cell_type": "code",
   "execution_count": 52,
   "id": "8bcc1b81",
   "metadata": {},
   "outputs": [
    {
     "data": {
      "text/html": [
       "<div>\n",
       "<style scoped>\n",
       "    .dataframe tbody tr th:only-of-type {\n",
       "        vertical-align: middle;\n",
       "    }\n",
       "\n",
       "    .dataframe tbody tr th {\n",
       "        vertical-align: top;\n",
       "    }\n",
       "\n",
       "    .dataframe thead th {\n",
       "        text-align: right;\n",
       "    }\n",
       "</style>\n",
       "<table border=\"1\" class=\"dataframe\">\n",
       "  <thead>\n",
       "    <tr style=\"text-align: right;\">\n",
       "      <th></th>\n",
       "      <th>Tarih</th>\n",
       "      <th>Saat</th>\n",
       "      <th>Derinlik(km)</th>\n",
       "      <th>ML</th>\n",
       "      <th>Yer</th>\n",
       "      <th>Timestamp</th>\n",
       "    </tr>\n",
       "  </thead>\n",
       "  <tbody>\n",
       "    <tr>\n",
       "      <th>1</th>\n",
       "      <td>2023.12.08</td>\n",
       "      <td>20:27:48</td>\n",
       "      <td>7.9</td>\n",
       "      <td>1.8</td>\n",
       "      <td>MALATYA</td>\n",
       "      <td>1.702056e+09</td>\n",
       "    </tr>\n",
       "    <tr>\n",
       "      <th>2</th>\n",
       "      <td>2023.12.08</td>\n",
       "      <td>20:00:27</td>\n",
       "      <td>2.9</td>\n",
       "      <td>2.0</td>\n",
       "      <td>MALATYA</td>\n",
       "      <td>1.702055e+09</td>\n",
       "    </tr>\n",
       "    <tr>\n",
       "      <th>3</th>\n",
       "      <td>2023.12.08</td>\n",
       "      <td>19:57:44</td>\n",
       "      <td>10.8</td>\n",
       "      <td>2.6</td>\n",
       "      <td>MALATYA</td>\n",
       "      <td>1.702055e+09</td>\n",
       "    </tr>\n",
       "    <tr>\n",
       "      <th>4</th>\n",
       "      <td>2023.12.08</td>\n",
       "      <td>19:48:15</td>\n",
       "      <td>7.8</td>\n",
       "      <td>1.5</td>\n",
       "      <td>MALATYA</td>\n",
       "      <td>1.702054e+09</td>\n",
       "    </tr>\n",
       "    <tr>\n",
       "      <th>5</th>\n",
       "      <td>2023.12.08</td>\n",
       "      <td>19:39:35</td>\n",
       "      <td>9.0</td>\n",
       "      <td>1.1</td>\n",
       "      <td>HATAY</td>\n",
       "      <td>1.702054e+09</td>\n",
       "    </tr>\n",
       "    <tr>\n",
       "      <th>...</th>\n",
       "      <td>...</td>\n",
       "      <td>...</td>\n",
       "      <td>...</td>\n",
       "      <td>...</td>\n",
       "      <td>...</td>\n",
       "      <td>...</td>\n",
       "    </tr>\n",
       "    <tr>\n",
       "      <th>492</th>\n",
       "      <td>2023.12.04</td>\n",
       "      <td>13:33:36</td>\n",
       "      <td>4.1</td>\n",
       "      <td>1.8</td>\n",
       "      <td>MALATYA</td>\n",
       "      <td>1.701686e+09</td>\n",
       "    </tr>\n",
       "    <tr>\n",
       "      <th>494</th>\n",
       "      <td>2023.12.04</td>\n",
       "      <td>13:21:54</td>\n",
       "      <td>3.3</td>\n",
       "      <td>2.2</td>\n",
       "      <td>SIVAS</td>\n",
       "      <td>1.701685e+09</td>\n",
       "    </tr>\n",
       "    <tr>\n",
       "      <th>496</th>\n",
       "      <td>2023.12.04</td>\n",
       "      <td>13:13:57</td>\n",
       "      <td>5.0</td>\n",
       "      <td>1.0</td>\n",
       "      <td>BURSA</td>\n",
       "      <td>1.701685e+09</td>\n",
       "    </tr>\n",
       "    <tr>\n",
       "      <th>499</th>\n",
       "      <td>2023.12.04</td>\n",
       "      <td>12:57:25</td>\n",
       "      <td>7.2</td>\n",
       "      <td>1.3</td>\n",
       "      <td>BURSA</td>\n",
       "      <td>1.701684e+09</td>\n",
       "    </tr>\n",
       "    <tr>\n",
       "      <th>500</th>\n",
       "      <td>2023.12.04</td>\n",
       "      <td>12:56:32</td>\n",
       "      <td>18.7</td>\n",
       "      <td>1.4</td>\n",
       "      <td>BURSA</td>\n",
       "      <td>1.701684e+09</td>\n",
       "    </tr>\n",
       "  </tbody>\n",
       "</table>\n",
       "<p>371 rows × 6 columns</p>\n",
       "</div>"
      ],
      "text/plain": [
       "          Tarih      Saat Derinlik(km)   ML      Yer     Timestamp\n",
       "1    2023.12.08  20:27:48          7.9  1.8  MALATYA  1.702056e+09\n",
       "2    2023.12.08  20:00:27          2.9  2.0  MALATYA  1.702055e+09\n",
       "3    2023.12.08  19:57:44         10.8  2.6  MALATYA  1.702055e+09\n",
       "4    2023.12.08  19:48:15          7.8  1.5  MALATYA  1.702054e+09\n",
       "5    2023.12.08  19:39:35          9.0  1.1    HATAY  1.702054e+09\n",
       "..          ...       ...          ...  ...      ...           ...\n",
       "492  2023.12.04  13:33:36          4.1  1.8  MALATYA  1.701686e+09\n",
       "494  2023.12.04  13:21:54          3.3  2.2    SIVAS  1.701685e+09\n",
       "496  2023.12.04  13:13:57          5.0  1.0    BURSA  1.701685e+09\n",
       "499  2023.12.04  12:57:25          7.2  1.3    BURSA  1.701684e+09\n",
       "500  2023.12.04  12:56:32         18.7  1.4    BURSA  1.701684e+09\n",
       "\n",
       "[371 rows x 6 columns]"
      ]
     },
     "metadata": {},
     "output_type": "display_data"
    }
   ],
   "source": [
    "display(df)"
   ]
  },
  {
   "cell_type": "markdown",
   "id": "de48e20b",
   "metadata": {},
   "source": [
    "Artık \"Tarih\" ve \"Saat\" sütunu ile bir işimiz kalmadığı için onları da siliyoruz."
   ]
  },
  {
   "cell_type": "code",
   "execution_count": 53,
   "id": "6606d712",
   "metadata": {},
   "outputs": [],
   "source": [
    "df = df.drop(['Tarih','Saat'], axis=1)"
   ]
  },
  {
   "cell_type": "code",
   "execution_count": 54,
   "id": "3c7d6a1c",
   "metadata": {},
   "outputs": [],
   "source": [
    "df=df.rename(columns = {'Derinlik(km)':'Derinlik'})"
   ]
  },
  {
   "cell_type": "code",
   "execution_count": 55,
   "id": "3f460384",
   "metadata": {},
   "outputs": [],
   "source": [
    "df[\"Derinlik\"] = df.Derinlik.astype(float)\n",
    "df[\"ML\"] = df.ML.astype(float)"
   ]
  },
  {
   "cell_type": "code",
   "execution_count": 56,
   "id": "eca5adba",
   "metadata": {},
   "outputs": [
    {
     "name": "stdout",
     "output_type": "stream",
     "text": [
      "<class 'pandas.core.frame.DataFrame'>\n",
      "Index: 371 entries, 1 to 500\n",
      "Data columns (total 4 columns):\n",
      " #   Column     Non-Null Count  Dtype  \n",
      "---  ------     --------------  -----  \n",
      " 0   Derinlik   371 non-null    float64\n",
      " 1   ML         371 non-null    float64\n",
      " 2   Yer        371 non-null    object \n",
      " 3   Timestamp  371 non-null    float64\n",
      "dtypes: float64(3), object(1)\n",
      "memory usage: 14.5+ KB\n"
     ]
    }
   ],
   "source": [
    "df.info()"
   ]
  },
  {
   "cell_type": "code",
   "execution_count": 58,
   "id": "8b9591fe",
   "metadata": {},
   "outputs": [],
   "source": [
    "df.to_csv(yeni_csv_file_path, index=False)"
   ]
  },
  {
   "cell_type": "code",
   "execution_count": null,
   "id": "2c2fcf3f",
   "metadata": {},
   "outputs": [],
   "source": []
  }
 ],
 "metadata": {
  "kernelspec": {
   "display_name": "Python 3 (ipykernel)",
   "language": "python",
   "name": "python3"
  },
  "language_info": {
   "codemirror_mode": {
    "name": "ipython",
    "version": 3
   },
   "file_extension": ".py",
   "mimetype": "text/x-python",
   "name": "python",
   "nbconvert_exporter": "python",
   "pygments_lexer": "ipython3",
   "version": "3.11.5"
  }
 },
 "nbformat": 4,
 "nbformat_minor": 5
}
