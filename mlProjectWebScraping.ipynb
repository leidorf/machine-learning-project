{
 "cells": [
  {
   "cell_type": "markdown",
   "id": "385b9aa1",
   "metadata": {},
   "source": [
    "Gerekli kütüphaneleri import ediyoruz. İnternete bağlanmak için requests kütüphanesini, Web scraping yapmak için BeautifulSoup'u ve verileri .csv dosya uzantısına yazdırmak için csv kütüphanesini import ediyoruz. "
   ]
  },
  {
   "cell_type": "code",
   "execution_count": null,
   "id": "56de6e34",
   "metadata": {},
   "outputs": [],
   "source": [
    "import requests\n",
    "from bs4 import BeautifulSoup\n",
    "import csv"
   ]
  },
  {
   "cell_type": "markdown",
   "id": "b5e2b844",
   "metadata": {},
   "source": [
    "Web scraping yapacağımız url'yi belirliyoruz ve sadece bağlantı başarılı olması durumunda kodumuzu çalıştırıyoruz."
   ]
  },
  {
   "cell_type": "code",
   "execution_count": null,
   "id": "0c8bc2ee",
   "metadata": {},
   "outputs": [],
   "source": [
    "url = 'http://www.koeri.boun.edu.tr/scripts/lst8.asp'\n",
    "response = requests.get(url)\n",
    "\n",
    "if response.status_code == 200:\n",
    "    html_content = response.text\n",
    "    soup = BeautifulSoup(html_content, 'html.parser')\n",
    "    ...\n",
    "    ...\n",
    "    ...\n",
    "\n",
    "else:\n",
    "print(f'Hata: {response.status_code}')"
   ]
  },
  {
   "cell_type": "markdown",
   "id": "2ea41cda",
   "metadata": {},
   "source": [
    "Aradığımız veriler HTML içerisinde pre tag'inin içerisinde bulunduğu için pre tag'ini hedefliyoruz. Kod, pre tag'ini bulduğu takdirde çalışacaktır. "
   ]
  },
  {
   "cell_type": "code",
   "execution_count": null,
   "id": "2bf79691",
   "metadata": {},
   "outputs": [],
   "source": [
    "    # <pre> etiketini bul\n",
    "    pre_tag = soup.find('pre')\n",
    "\n",
    "    if pre_tag:\n",
    "        # <pre> etiketinin içeriğini al\n",
    "        data = pre_tag.text\n",
    "        ...\n",
    "        ...\n",
    "        ...\n",
    "        \n",
    "    else:\n",
    "            print('<pre> etiketi bulunamadı.')"
   ]
  },
  {
   "cell_type": "markdown",
   "id": "21316e02",
   "metadata": {},
   "source": [
    "Burada verileri satır satır ayırarak liste oluşturuyoruz. Böylelikle veri setimiz yavaş yavaş oluşmaya başlıyor. Eğer istenmeyen satırlar varsa veriye dahil etmeyerek ileride oluşabilecek sorunları önlüyoruz ve veriyi yazdıracağımız dosya adını ve uzantısını belirliyoruz."
   ]
  },
  {
   "cell_type": "code",
   "execution_count": null,
   "id": "7b29af9f",
   "metadata": {
    "scrolled": true
   },
   "outputs": [],
   "source": [
    "        rows = [line.strip() for line in data.split('\\n') if line.strip()]\n",
    "        rows = rows[6:]\n",
    "\n",
    "        # CSV dosyasını belirleme\n",
    "        csv_file_path = 'depremverileri.csv'"
   ]
  },
  {
   "cell_type": "markdown",
   "id": "1fd3b6db",
   "metadata": {},
   "source": [
    "Belirlediğimiz .csv dosyasını yazma modunda açtıktan sonra elenmiş verilerimizi ve sütun başlıklarını .csv dosyasına yazdırıyoruz."
   ]
  },
  {
   "cell_type": "code",
   "execution_count": null,
   "id": "07184b20",
   "metadata": {},
   "outputs": [],
   "source": [
    "        with open(csv_file_path, 'w', newline='', encoding='utf-8') as csv_file:\n",
    "            writer = csv.writer(csv_file)\n",
    "            \n",
    "            #Sütun başlıklarını belirle\n",
    "            writer.writerow(['Tarih,Saat,Enlem(N),Boylam(E),Derinlik(km),MD,ML,Mw,Yer'])\n",
    "\n",
    "            for row in rows:\n",
    "                modified_row = ','.join(row.split())\n",
    "                modified_row = modified_row.replace(',(', '(')\n",
    "                modified_row = modified_row.split(')', 1)\n",
    "                modified_row = modified_row[0] + ')' if modified_row[1:] else modified_row[0]\n",
    "                \n",
    "                # Verileri CSV'ye yaz\n",
    "                writer.writerow([modified_row])\n",
    "\n",
    "        print(f'Veriler CSV dosyasına yazıldı: {csv_file_path}')"
   ]
  }
 ],
 "metadata": {
  "kernelspec": {
   "display_name": "Python 3 (ipykernel)",
   "language": "python",
   "name": "python3"
  },
  "language_info": {
   "codemirror_mode": {
    "name": "ipython",
    "version": 3
   },
   "file_extension": ".py",
   "mimetype": "text/x-python",
   "name": "python",
   "nbconvert_exporter": "python",
   "pygments_lexer": "ipython3",
   "version": "3.11.5"
  }
 },
 "nbformat": 4,
 "nbformat_minor": 5
}
